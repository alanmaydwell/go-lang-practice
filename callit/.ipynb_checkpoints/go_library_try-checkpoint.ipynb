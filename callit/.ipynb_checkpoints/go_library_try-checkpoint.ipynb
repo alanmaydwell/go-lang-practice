{
 "cells": [
  {
   "cell_type": "markdown",
   "metadata": {},
   "source": [
    "# Trying using library file created using Go in Python code\n",
    "Go source was\n",
    "```\n",
    "package main\n",
    "\n",
    "import \"C\"\n",
    "\n",
    "import \"math\"\n",
    "\n",
    "\n",
    "// Note the export line is important - also no space after //\n",
    "// Function won't be added to the library without it!\n",
    "//export add\n",
    "func add(left, right int) int {\n",
    "\treturn left + right\n",
    "}\n",
    "\n",
    "\n",
    "// Note the export line is important - also no space after //\n",
    "//export sin\n",
    "func sin(x float64) float64 {\n",
    "\treturn math.Sin(x)\n",
    "}\n",
    "\n",
    "func main() {\n",
    "}\n",
    "```\n",
    "Compiled using `go build -buildmode=c-shared -o go_so.so go_so.go`\n",
    "\n",
    "Import the library"
   ]
  },
  {
   "cell_type": "code",
   "execution_count": 1,
   "metadata": {},
   "outputs": [],
   "source": [
    "from ctypes import *\n",
    "# Import the library created from go\n",
    "lib = cdll.LoadLibrary(\"./go_so.so\")"
   ]
  },
  {
   "cell_type": "code",
   "execution_count": 2,
   "metadata": {},
   "outputs": [],
   "source": [
    "# Need to do this to get sin fuction working (otherwise always returns 0)\n",
    "# Set argument type and return value type\n",
    "lib.sin.argtypes = [c_double]\n",
    "lib.sin.restype = c_double "
   ]
  },
  {
   "cell_type": "markdown",
   "metadata": {},
   "source": [
    "#### Try the imported *add* function"
   ]
  },
  {
   "cell_type": "code",
   "execution_count": 3,
   "metadata": {},
   "outputs": [
    {
     "data": {
      "text/plain": [
       "3"
      ]
     },
     "execution_count": 3,
     "metadata": {},
     "output_type": "execute_result"
    }
   ],
   "source": [
    "lib.add(1,2)"
   ]
  },
  {
   "cell_type": "markdown",
   "metadata": {},
   "source": [
    "#### Try the imported *sin* function"
   ]
  },
  {
   "cell_type": "code",
   "execution_count": 8,
   "metadata": {},
   "outputs": [
    {
     "name": "stdout",
     "output_type": "stream",
     "text": [
      "0.0\n",
      "0.29552020666133955\n",
      "0.5646424733950354\n",
      "0.7833269096274834\n",
      "0.9320390859672264\n",
      "0.9974949866040544\n",
      "0.9738476308781951\n",
      "0.8632093666488737\n",
      "0.675463180551151\n",
      "0.4273798802338298\n",
      "0.1411200080598672\n",
      "-0.15774569414324865\n",
      "-0.44252044329485246\n",
      "-0.6877661591839738\n",
      "-0.8715757724135882\n",
      "-0.977530117665097\n",
      "-0.9961646088358407\n",
      "-0.9258146823277321\n",
      "-0.7727644875559871\n",
      "-0.5506855425976376\n",
      "-0.27941549819892586\n"
     ]
    }
   ],
   "source": [
    "for i in range(0, 618, 30):\n",
    "    print(lib.sin(0.01*i))"
   ]
  },
  {
   "cell_type": "markdown",
   "metadata": {},
   "source": [
    "### Speed comparison with native Python sin"
   ]
  },
  {
   "cell_type": "code",
   "execution_count": 10,
   "metadata": {},
   "outputs": [],
   "source": [
    "import math"
   ]
  },
  {
   "cell_type": "code",
   "execution_count": 11,
   "metadata": {},
   "outputs": [
    {
     "name": "stdout",
     "output_type": "stream",
     "text": [
      "108 ns ± 3.39 ns per loop (mean ± std. dev. of 7 runs, 10000000 loops each)\n"
     ]
    }
   ],
   "source": [
    "%timeit math.sin(1)"
   ]
  },
  {
   "cell_type": "code",
   "execution_count": 12,
   "metadata": {},
   "outputs": [
    {
     "name": "stdout",
     "output_type": "stream",
     "text": [
      "5.34 µs ± 64.1 ns per loop (mean ± std. dev. of 7 runs, 100000 loops each)\n"
     ]
    }
   ],
   "source": [
    "%timeit lib.sin(1)"
   ]
  },
  {
   "cell_type": "markdown",
   "metadata": {},
   "source": [
    "#### Oh well, above suggest that native sin is much faster!\n",
    "Possibly using cdll for simple tasks like this doesn't help in this circumstance."
   ]
  },
  {
   "cell_type": "code",
   "execution_count": null,
   "metadata": {},
   "outputs": [],
   "source": []
  }
 ],
 "metadata": {
  "kernelspec": {
   "display_name": "jupyter3",
   "language": "python",
   "name": "jupyter3"
  },
  "language_info": {
   "codemirror_mode": {
    "name": "ipython",
    "version": 3
   },
   "file_extension": ".py",
   "mimetype": "text/x-python",
   "name": "python",
   "nbconvert_exporter": "python",
   "pygments_lexer": "ipython3",
   "version": "3.6.7"
  }
 },
 "nbformat": 4,
 "nbformat_minor": 2
}
